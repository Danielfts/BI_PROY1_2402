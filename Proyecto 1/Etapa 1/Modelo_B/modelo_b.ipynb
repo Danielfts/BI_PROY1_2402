{
 "cells": [
  {
   "cell_type": "markdown",
   "metadata": {},
   "source": [
    "# Modelo B\n",
    "\n",
    "Autor: Cristobal Arroyo"
   ]
  },
  {
   "cell_type": "code",
   "execution_count": null,
   "metadata": {},
   "outputs": [],
   "source": []
  }
 ],
 "metadata": {
  "language_info": {
   "name": "python"
  }
 },
 "nbformat": 4,
 "nbformat_minor": 2
}
